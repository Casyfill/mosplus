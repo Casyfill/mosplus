{
 "cells": [
  {
   "cell_type": "code",
   "execution_count": 6,
   "metadata": {
    "collapsed": true
   },
   "outputs": [],
   "source": [
    "import pandas as pd\n",
    "import json"
   ]
  },
  {
   "cell_type": "code",
   "execution_count": 21,
   "metadata": {
    "collapsed": true
   },
   "outputs": [],
   "source": [
    "%matplotlib inline"
   ]
  },
  {
   "cell_type": "code",
   "execution_count": 3,
   "metadata": {
    "collapsed": true
   },
   "outputs": [],
   "source": [
    "df = pd.read_json('raw_1.json')"
   ]
  },
  {
   "cell_type": "code",
   "execution_count": 4,
   "metadata": {
    "collapsed": false
   },
   "outputs": [
    {
     "data": {
      "text/html": [
       "<div>\n",
       "<table border=\"1\" class=\"dataframe\">\n",
       "  <thead>\n",
       "    <tr style=\"text-align: right;\">\n",
       "      <th></th>\n",
       "      <th>Cells</th>\n",
       "      <th>Id</th>\n",
       "      <th>Number</th>\n",
       "    </tr>\n",
       "  </thead>\n",
       "  <tbody>\n",
       "    <tr>\n",
       "      <th>0</th>\n",
       "      <td>{u'KRT': None, u'DDOC': u'15.11.2004', u'NREG'...</td>\n",
       "      <td>66eb6f97-2a7e-477f-bbdd-80b7467c55df</td>\n",
       "      <td>1</td>\n",
       "    </tr>\n",
       "    <tr>\n",
       "      <th>1</th>\n",
       "      <td>{u'KRT': u'3', u'DDOC': u'14.11.2002', u'NREG'...</td>\n",
       "      <td>c1b4f336-86c9-4ed3-9222-6147d2eac555</td>\n",
       "      <td>2</td>\n",
       "    </tr>\n",
       "    <tr>\n",
       "      <th>2</th>\n",
       "      <td>{u'KRT': None, u'DDOC': u'22.11.2004', u'NREG'...</td>\n",
       "      <td>95c0747d-2ad1-4437-8565-a0b32854ba31</td>\n",
       "      <td>3</td>\n",
       "    </tr>\n",
       "    <tr>\n",
       "      <th>3</th>\n",
       "      <td>{u'KRT': u'3', u'DDOC': u'19.08.2004', u'NREG'...</td>\n",
       "      <td>17b34df1-fbf9-4afa-9e5e-4832a35d7f10</td>\n",
       "      <td>4</td>\n",
       "    </tr>\n",
       "    <tr>\n",
       "      <th>4</th>\n",
       "      <td>{u'KRT': u'2', u'DDOC': u'14.11.2002', u'NREG'...</td>\n",
       "      <td>ae8c7f85-db45-4cd7-8827-222cf1a579e3</td>\n",
       "      <td>5</td>\n",
       "    </tr>\n",
       "  </tbody>\n",
       "</table>\n",
       "</div>"
      ],
      "text/plain": [
       "                                               Cells  \\\n",
       "0  {u'KRT': None, u'DDOC': u'15.11.2004', u'NREG'...   \n",
       "1  {u'KRT': u'3', u'DDOC': u'14.11.2002', u'NREG'...   \n",
       "2  {u'KRT': None, u'DDOC': u'22.11.2004', u'NREG'...   \n",
       "3  {u'KRT': u'3', u'DDOC': u'19.08.2004', u'NREG'...   \n",
       "4  {u'KRT': u'2', u'DDOC': u'14.11.2002', u'NREG'...   \n",
       "\n",
       "                                     Id  Number  \n",
       "0  66eb6f97-2a7e-477f-bbdd-80b7467c55df       1  \n",
       "1  c1b4f336-86c9-4ed3-9222-6147d2eac555       2  \n",
       "2  95c0747d-2ad1-4437-8565-a0b32854ba31       3  \n",
       "3  17b34df1-fbf9-4afa-9e5e-4832a35d7f10       4  \n",
       "4  ae8c7f85-db45-4cd7-8827-222cf1a579e3       5  "
      ]
     },
     "execution_count": 4,
     "metadata": {},
     "output_type": "execute_result"
    }
   ],
   "source": [
    "df.head()"
   ]
  },
  {
   "cell_type": "code",
   "execution_count": 5,
   "metadata": {
    "collapsed": false
   },
   "outputs": [
    {
     "data": {
      "text/plain": [
       "{u'ADRES': u'\\u041f\\u0435\\u0442\\u0440\\u043e\\u0432\\u0441\\u043a\\u043e-\\u0420\\u0430\\u0437\\u0443\\u043c\\u043e\\u0432\\u0441\\u043a\\u0430\\u044f \\u0430\\u043b\\u043b\\u0435\\u044f, \\u0434\\u043e\\u043c 6',\n",
       " u'AdmArea': [u'\\u0421\\u0435\\u0432\\u0435\\u0440\\u043d\\u044b\\u0439 \\u0430\\u0434\\u043c\\u0438\\u043d\\u0438\\u0441\\u0442\\u0440\\u0430\\u0442\\u0438\\u0432\\u043d\\u044b\\u0439 \\u043e\\u043a\\u0440\\u0443\\u0433'],\n",
       " u'DDOC': u'15.11.2004',\n",
       " u'DMT': u'6',\n",
       " u'DREG': u'22.11.2004',\n",
       " u'KADNOMZU': None,\n",
       " u'KAD_KV': 0,\n",
       " u'KAD_RN': 0,\n",
       " u'KAD_ZU': 0,\n",
       " u'KRT': None,\n",
       " u'NDOC': u'8933',\n",
       " u'NREG': 9008614,\n",
       " u'SOOR': u'\\u0421\\u0442\\u0440\\u043e\\u0435\\u043d\\u0438\\u0435',\n",
       " u'STRT': None,\n",
       " u'TDOC': u'\\u0420\\u0430\\u0441\\u043f\\u043e\\u0440\\u044f\\u0436\\u0435\\u043d\\u0438\\u0435 \\u043f\\u0440\\u0435\\u0444\\u0435\\u043a\\u0442\\u0443\\u0440\\u044b \\u0410\\u041e \\u0433\\u043e\\u0440\\u043e\\u0434\\u0430 \\u041c\\u043e\\u0441\\u043a\\u0432\\u044b',\n",
       " u'UNOM': 19630,\n",
       " u'VLD': u'\\u0414\\u043e\\u043c',\n",
       " u'VYVAD': u'\\u0430\\u0434\\u0440\\u0435\\u0441 \\u0443\\u0442\\u0432\\u0435\\u0440\\u0436\\u0434\\u0435\\u043d \\u0440\\u0430\\u0441\\u043f\\u043e\\u0440\\u044f\\u0434\\u0438\\u0442\\u0435\\u043b\\u044c\\u043d\\u044b\\u043c \\u0434\\u043e\\u043a\\u0443\\u043c\\u0435\\u043d\\u0442\\u043e\\u043c',\n",
       " u'geoData': {u'coordinates': [[[37.564683837524, 55.792050366348],\n",
       "    [37.564772611211, 55.792164957853],\n",
       "    [37.564946150358, 55.792122089297],\n",
       "    [37.564964414232, 55.792145463385],\n",
       "    [37.565054977276, 55.792123172389],\n",
       "    [37.565036713357, 55.792099797416],\n",
       "    [37.565218860445, 55.792054924601],\n",
       "    [37.565236614947, 55.792077728583],\n",
       "    [37.565317055628, 55.792058012421],\n",
       "    [37.565299299494, 55.792035208451],\n",
       "    [37.565489031495, 55.79198862828],\n",
       "    [37.565507799232, 55.792012852582],\n",
       "    [37.565588754081, 55.79199284586],\n",
       "    [37.565569983116, 55.79196862247],\n",
       "    [37.565765790231, 55.791920319541],\n",
       "    [37.565783539103, 55.791943412657],\n",
       "    [37.565861456572, 55.79192425974],\n",
       "    [37.5658437013, 55.791901174722],\n",
       "    [37.56602635031, 55.791856308523],\n",
       "    [37.565935553143, 55.791739437662],\n",
       "    [37.565494873565, 55.791847751464],\n",
       "    [37.565484217806, 55.791834354715],\n",
       "    [37.565382016486, 55.791859503899],\n",
       "    [37.565404334041, 55.791888288111],\n",
       "    [37.565318829802, 55.791909436904],\n",
       "    [37.56530767368, 55.791895189843],\n",
       "    [37.565223686562, 55.791916048553],\n",
       "    [37.565212017297, 55.791900941313],\n",
       "    [37.565107284997, 55.791926661049],\n",
       "    [37.565118953761, 55.791941488071],\n",
       "    [37.564683837524, 55.792050366348]]],\n",
       "  u'type': u'Polygon'},\n",
       " u'global_id': 20997012}"
      ]
     },
     "execution_count": 5,
     "metadata": {},
     "output_type": "execute_result"
    }
   ],
   "source": [
    "df.iloc[0,0]"
   ]
  },
  {
   "cell_type": "code",
   "execution_count": 55,
   "metadata": {
    "collapsed": true
   },
   "outputs": [],
   "source": [
    "DF = pd.DataFrame.from_dict(df['Cells'].tolist())"
   ]
  },
  {
   "cell_type": "code",
   "execution_count": 56,
   "metadata": {
    "collapsed": false
   },
   "outputs": [
    {
     "data": {
      "text/html": [
       "<div>\n",
       "<table border=\"1\" class=\"dataframe\">\n",
       "  <thead>\n",
       "    <tr style=\"text-align: right;\">\n",
       "      <th></th>\n",
       "      <th>ADRES</th>\n",
       "      <th>AdmArea</th>\n",
       "      <th>DDOC</th>\n",
       "      <th>DMT</th>\n",
       "      <th>DREG</th>\n",
       "      <th>KADNOMZU</th>\n",
       "      <th>KAD_KV</th>\n",
       "      <th>KAD_RN</th>\n",
       "      <th>KAD_ZU</th>\n",
       "      <th>KRT</th>\n",
       "      <th>NDOC</th>\n",
       "      <th>NREG</th>\n",
       "      <th>SOOR</th>\n",
       "      <th>STRT</th>\n",
       "      <th>TDOC</th>\n",
       "      <th>UNOM</th>\n",
       "      <th>VLD</th>\n",
       "      <th>VYVAD</th>\n",
       "      <th>geoData</th>\n",
       "      <th>global_id</th>\n",
       "    </tr>\n",
       "  </thead>\n",
       "  <tbody>\n",
       "    <tr>\n",
       "      <th>0</th>\n",
       "      <td>Петровско-Разумовская аллея, дом 6</td>\n",
       "      <td>[Северный административный округ]</td>\n",
       "      <td>15.11.2004</td>\n",
       "      <td>6</td>\n",
       "      <td>22.11.2004</td>\n",
       "      <td>None</td>\n",
       "      <td>0</td>\n",
       "      <td>0</td>\n",
       "      <td>0</td>\n",
       "      <td>None</td>\n",
       "      <td>8933</td>\n",
       "      <td>9008614</td>\n",
       "      <td>Строение</td>\n",
       "      <td>None</td>\n",
       "      <td>Распоряжение префектуры АО города Москвы</td>\n",
       "      <td>19630</td>\n",
       "      <td>Дом</td>\n",
       "      <td>адрес утвержден распорядительным документом</td>\n",
       "      <td>{u'type': u'Polygon', u'coordinates': [[[37.56...</td>\n",
       "      <td>20997012</td>\n",
       "    </tr>\n",
       "    <tr>\n",
       "      <th>1</th>\n",
       "      <td>Чертановская улица, дом 23, корпус 3</td>\n",
       "      <td>[Южный административный округ]</td>\n",
       "      <td>14.11.2002</td>\n",
       "      <td>23</td>\n",
       "      <td>24.12.2002</td>\n",
       "      <td>None</td>\n",
       "      <td>0</td>\n",
       "      <td>0</td>\n",
       "      <td>0</td>\n",
       "      <td>3</td>\n",
       "      <td>01-41-2445</td>\n",
       "      <td>5004404</td>\n",
       "      <td>Строение</td>\n",
       "      <td>None</td>\n",
       "      <td>Распоряжение префектуры АО города Москвы</td>\n",
       "      <td>28857</td>\n",
       "      <td>Дом</td>\n",
       "      <td>адрес утвержден распорядительным документом</td>\n",
       "      <td>{u'type': u'Polygon', u'coordinates': [[[37.59...</td>\n",
       "      <td>20998134</td>\n",
       "    </tr>\n",
       "    <tr>\n",
       "      <th>2</th>\n",
       "      <td>3-я Новоостанкинская улица, дом 21</td>\n",
       "      <td>[Северо-Восточный административный округ]</td>\n",
       "      <td>22.11.2004</td>\n",
       "      <td>21</td>\n",
       "      <td>24.11.2004</td>\n",
       "      <td>None</td>\n",
       "      <td>0</td>\n",
       "      <td>0</td>\n",
       "      <td>0</td>\n",
       "      <td>None</td>\n",
       "      <td>3806</td>\n",
       "      <td>2205616</td>\n",
       "      <td>Строение</td>\n",
       "      <td>None</td>\n",
       "      <td>Распоряжение префектуры АО города Москвы</td>\n",
       "      <td>16719</td>\n",
       "      <td>Дом</td>\n",
       "      <td>адрес утвержден распорядительным документом</td>\n",
       "      <td>{u'type': u'Polygon', u'coordinates': [[[37.62...</td>\n",
       "      <td>20997019</td>\n",
       "    </tr>\n",
       "  </tbody>\n",
       "</table>\n",
       "</div>"
      ],
      "text/plain": [
       "                                  ADRES  \\\n",
       "0    Петровско-Разумовская аллея, дом 6   \n",
       "1  Чертановская улица, дом 23, корпус 3   \n",
       "2    3-я Новоостанкинская улица, дом 21   \n",
       "\n",
       "                                     AdmArea        DDOC DMT        DREG  \\\n",
       "0          [Северный административный округ]  15.11.2004   6  22.11.2004   \n",
       "1             [Южный административный округ]  14.11.2002  23  24.12.2002   \n",
       "2  [Северо-Восточный административный округ]  22.11.2004  21  24.11.2004   \n",
       "\n",
       "  KADNOMZU  KAD_KV  KAD_RN  KAD_ZU   KRT        NDOC     NREG      SOOR  STRT  \\\n",
       "0     None       0       0       0  None        8933  9008614  Строение  None   \n",
       "1     None       0       0       0     3  01-41-2445  5004404  Строение  None   \n",
       "2     None       0       0       0  None        3806  2205616  Строение  None   \n",
       "\n",
       "                                       TDOC   UNOM  VLD  \\\n",
       "0  Распоряжение префектуры АО города Москвы  19630  Дом   \n",
       "1  Распоряжение префектуры АО города Москвы  28857  Дом   \n",
       "2  Распоряжение префектуры АО города Москвы  16719  Дом   \n",
       "\n",
       "                                         VYVAD  \\\n",
       "0  адрес утвержден распорядительным документом   \n",
       "1  адрес утвержден распорядительным документом   \n",
       "2  адрес утвержден распорядительным документом   \n",
       "\n",
       "                                             geoData  global_id  \n",
       "0  {u'type': u'Polygon', u'coordinates': [[[37.56...   20997012  \n",
       "1  {u'type': u'Polygon', u'coordinates': [[[37.59...   20998134  \n",
       "2  {u'type': u'Polygon', u'coordinates': [[[37.62...   20997019  "
      ]
     },
     "execution_count": 56,
     "metadata": {},
     "output_type": "execute_result"
    }
   ],
   "source": [
    "DF.head(3)"
   ]
  },
  {
   "cell_type": "code",
   "execution_count": 78,
   "metadata": {
    "collapsed": false
   },
   "outputs": [],
   "source": [
    "DF['AdmArea'] = DF['AdmArea'].apply(lambda x: ', '.join(x))"
   ]
  },
  {
   "cell_type": "code",
   "execution_count": 79,
   "metadata": {
    "collapsed": true
   },
   "outputs": [],
   "source": [
    "#DF.rename(columns={'geoData':'geometry'}, inplace=1)"
   ]
  },
  {
   "cell_type": "code",
   "execution_count": 80,
   "metadata": {
    "collapsed": false
   },
   "outputs": [],
   "source": [
    "import geopandas as gp\n",
    "from shapely.geometry import shape"
   ]
  },
  {
   "cell_type": "code",
   "execution_count": 81,
   "metadata": {
    "collapsed": false
   },
   "outputs": [
    {
     "ename": "AttributeError",
     "evalue": "'numpy.int64' object has no attribute 'get'",
     "output_type": "error",
     "traceback": [
      "\u001b[0;31m---------------------------------------------------------------------------\u001b[0m",
      "\u001b[0;31mAttributeError\u001b[0m                            Traceback (most recent call last)",
      "\u001b[0;32m<ipython-input-81-bf928c812158>\u001b[0m in \u001b[0;36m<module>\u001b[0;34m()\u001b[0m\n\u001b[1;32m      1\u001b[0m \u001b[0mx\u001b[0m \u001b[0;34m=\u001b[0m \u001b[0mDF\u001b[0m\u001b[0;34m.\u001b[0m\u001b[0miloc\u001b[0m\u001b[0;34m[\u001b[0m\u001b[0;36m10\u001b[0m\u001b[0;34m,\u001b[0m\u001b[0;34m-\u001b[0m\u001b[0;36m2\u001b[0m\u001b[0;34m]\u001b[0m\u001b[0;34m\u001b[0m\u001b[0m\n\u001b[0;32m----> 2\u001b[0;31m \u001b[0mz\u001b[0m \u001b[0;34m=\u001b[0m \u001b[0mshape\u001b[0m\u001b[0;34m(\u001b[0m\u001b[0mx\u001b[0m\u001b[0;34m)\u001b[0m\u001b[0;34m\u001b[0m\u001b[0m\n\u001b[0m",
      "\u001b[0;32m/Users/casy/anaconda/lib/python2.7/site-packages/shapely/geometry/geo.pyc\u001b[0m in \u001b[0;36mshape\u001b[0;34m(context)\u001b[0m\n\u001b[1;32m     26\u001b[0m     \u001b[0;32melse\u001b[0m\u001b[0;34m:\u001b[0m\u001b[0;34m\u001b[0m\u001b[0m\n\u001b[1;32m     27\u001b[0m         \u001b[0mob\u001b[0m \u001b[0;34m=\u001b[0m \u001b[0mcontext\u001b[0m\u001b[0;34m\u001b[0m\u001b[0m\n\u001b[0;32m---> 28\u001b[0;31m     \u001b[0mgeom_type\u001b[0m \u001b[0;34m=\u001b[0m \u001b[0mob\u001b[0m\u001b[0;34m.\u001b[0m\u001b[0mget\u001b[0m\u001b[0;34m(\u001b[0m\u001b[0;34m\"type\"\u001b[0m\u001b[0;34m)\u001b[0m\u001b[0;34m.\u001b[0m\u001b[0mlower\u001b[0m\u001b[0;34m(\u001b[0m\u001b[0;34m)\u001b[0m\u001b[0;34m\u001b[0m\u001b[0m\n\u001b[0m\u001b[1;32m     29\u001b[0m     \u001b[0;32mif\u001b[0m \u001b[0mgeom_type\u001b[0m \u001b[0;34m==\u001b[0m \u001b[0;34m\"point\"\u001b[0m\u001b[0;34m:\u001b[0m\u001b[0;34m\u001b[0m\u001b[0m\n\u001b[1;32m     30\u001b[0m         \u001b[0;32mreturn\u001b[0m \u001b[0mPoint\u001b[0m\u001b[0;34m(\u001b[0m\u001b[0mob\u001b[0m\u001b[0;34m[\u001b[0m\u001b[0;34m\"coordinates\"\u001b[0m\u001b[0;34m]\u001b[0m\u001b[0;34m)\u001b[0m\u001b[0;34m\u001b[0m\u001b[0m\n",
      "\u001b[0;31mAttributeError\u001b[0m: 'numpy.int64' object has no attribute 'get'"
     ]
    }
   ],
   "source": [
    "x = DF.iloc[10,-2]\n",
    "z = shape(x)"
   ]
  },
  {
   "cell_type": "code",
   "execution_count": 82,
   "metadata": {
    "collapsed": false
   },
   "outputs": [],
   "source": [
    "def processGeom(x):\n",
    "    try:\n",
    "        return shape(x)\n",
    "    except:\n",
    "        return pd.np.NAN"
   ]
  },
  {
   "cell_type": "code",
   "execution_count": 83,
   "metadata": {
    "collapsed": false
   },
   "outputs": [],
   "source": [
    "DF['geometry'] = DF['geoData'].apply(processGeom)"
   ]
  },
  {
   "cell_type": "code",
   "execution_count": 84,
   "metadata": {
    "collapsed": false
   },
   "outputs": [
    {
     "name": "stdout",
     "output_type": "stream",
     "text": [
      "(153715, 21)\n"
     ]
    }
   ],
   "source": [
    "print DF.shape\n",
    "DF[pd.isnull(DF['geometry'])].to_csv('problematic_csv', encoding='utf8')"
   ]
  },
  {
   "cell_type": "code",
   "execution_count": 85,
   "metadata": {
    "collapsed": true
   },
   "outputs": [],
   "source": [
    "G = DF[pd.notnull(DF['geometry'])] #.to_csv('problematic_csv', encoding='utf8')"
   ]
  },
  {
   "cell_type": "code",
   "execution_count": 86,
   "metadata": {
    "collapsed": true
   },
   "outputs": [],
   "source": [
    "G2 = gp.GeoDataFrame(G, geometry='geometry')"
   ]
  },
  {
   "cell_type": "code",
   "execution_count": 87,
   "metadata": {
    "collapsed": false
   },
   "outputs": [
    {
     "data": {
      "text/plain": [
       "<matplotlib.axes._subplots.AxesSubplot at 0x1d2bc2cd0>"
      ]
     },
     "execution_count": 87,
     "metadata": {},
     "output_type": "execute_result"
    },
    {
     "data": {
      "image/png": "[encoded data removed]",
      "text/plain": [
       "<matplotlib.figure.Figure at 0x1c4864d10>"
      ]
     },
     "metadata": {},
     "output_type": "display_data"
    }
   ],
   "source": [
    "G2.ix[:1000,:].plot()"
   ]
  },
  {
   "cell_type": "code",
   "execution_count": 88,
   "metadata": {
    "collapsed": true
   },
   "outputs": [],
   "source": [
    "G2.crs = {'init': 'epsg:4326', 'no_defs': True}"
   ]
  },
  {
   "cell_type": "code",
   "execution_count": 93,
   "metadata": {
    "collapsed": false
   },
   "outputs": [],
   "source": [
    "with open('footprint2utf.json','w') as f:\n",
    "    f.write(G2.to_json(encoding='utf8') )"
   ]
  },
  {
   "cell_type": "code",
   "execution_count": 90,
   "metadata": {
    "collapsed": false
   },
   "outputs": [],
   "source": [
    "#?G2.to_file('footprint2.shp', enc)"
   ]
  },
  {
   "cell_type": "code",
   "execution_count": 96,
   "metadata": {
    "collapsed": false
   },
   "outputs": [
    {
     "name": "stdout",
     "output_type": "stream",
     "text": [
      "0\n",
      "1\n",
      "2\n",
      "3\n"
     ]
    }
   ],
   "source": [
    "for i, x in enumerate(pd.np.array_split(G2, 4)):\n",
    "    print i\n",
    "    with open('footprint2utf_{0}.json'.format(i),'w') as f:\n",
    "        f.write(x.to_json(encoding='utf8') )"
   ]
  },
  {
   "cell_type": "code",
   "execution_count": null,
   "metadata": {
    "collapsed": true
   },
   "outputs": [],
   "source": []
  }
 ],
 "metadata": {
  "kernelspec": {
   "display_name": "Python 2",
   "language": "python",
   "name": "python2"
  },
  "language_info": {
   "codemirror_mode": {
    "name": "ipython",
    "version": 2
   },
   "file_extension": ".py",
   "mimetype": "text/x-python",
   "name": "python",
   "nbconvert_exporter": "python",
   "pygments_lexer": "ipython2",
   "version": "2.7.11"
  }
 },
 "nbformat": 4,
 "nbformat_minor": 0
}
